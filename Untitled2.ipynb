{
 "cells": [
  {
   "cell_type": "code",
   "execution_count": 31,
   "id": "202a048e-dc4d-46b3-b45d-366e1aba40ea",
   "metadata": {},
   "outputs": [],
   "source": [
    "from selenium import webdriver\n",
    "from selenium.webdriver.common.by import By\n",
    "from selenium.webdriver.chrome.service import Service\n",
    "from selenium.webdriver.chrome.options import Options\n",
    "from selenium.webdriver.support.ui import WebDriverWait\n",
    "from selenium.webdriver.support import expected_conditions as EC\n"
   ]
  },
  {
   "cell_type": "code",
   "execution_count": 33,
   "id": "dcd344db-e39a-4ffb-bbeb-f4b0a47d6d98",
   "metadata": {},
   "outputs": [],
   "source": [
    "options = Options()\n",
    "options.headlees=False\n",
    "driver = webdriver.Chrome()\n",
    "driver.implicitly_wait(5)\n",
    "driver.get('https://www.redbus.in/bus-tickets/bangalore-to-kozhikode?fromCityName=Bangalore&fromCityId=122&srcCountry=IND&toCityName=Kozhikode&toCityId=74661&destCountry=IND&onward=20-Jul-2024&opId=0&busType=Any');\n",
    "wait = WebDriverWait(driver, 10)\n",
    "test git"
   ]
  },
  {
   "cell_type": "code",
   "execution_count": 51,
   "id": "79a1cef4-d6df-49e0-9185-9242c650eb1d",
   "metadata": {},
   "outputs": [],
   "source": [
    "def find_elements_values(by,path):\n",
    "    try:\n",
    "        elements = wait.until(EC.presence_of_all_elements_located((by, \"//div[@class='travels lh-24 f-bold d-color']\")))\n",
    "        return [element.text for element in elements]\n",
    "    except Exception as e:\n",
    "        print(f\"Error finding elements: {e}\")\n",
    "        return []"
   ]
  },
  {
   "cell_type": "code",
   "execution_count": 52,
   "id": "bb62c6e6-beeb-4a7d-bf24-37f862ea37c3",
   "metadata": {},
   "outputs": [
    {
     "name": "stdout",
     "output_type": "stream",
     "text": [
      "Error finding elements: 'str' object has no attribute 'values'\n",
      "Error finding elements: 'str' object has no attribute 'values'\n",
      "Error finding elements: 'str' object has no attribute 'values'\n",
      "Error finding elements: 'str' object has no attribute 'values'\n",
      "Error finding elements: 'str' object has no attribute 'values'\n",
      "Error finding elements: 'str' object has no attribute 'values'\n",
      "Error finding elements: 'str' object has no attribute 'values'\n",
      "Error finding elements: 'str' object has no attribute 'values'\n",
      "Error finding elements: 'str' object has no attribute 'values'\n"
     ]
    }
   ],
   "source": [
    "bus_names = find_elements_values(By.XPATH, \"//div[@class='travels lh-24 f-bold d-color']\")\n",
    "arriving_times = find_elements_values(By.XPATH, \"//div[@class='dp-time f-19 d-color f-bold']\")\n",
    "departure_times = find_elements_values(By.XPATH, \"//div[@class='bp-time f-19 d-color disp-Inline']\")\n",
    "time_durations = find_elements_values(By.XPATH, \"//div[@class='dur l-color lh-24']\")\n",
    "bus_routes = find_elements_values(By.XPATH, \"//div[@class='bp-loc l-color w-wrap f-12 m-top-8']\")\n",
    "# prices=\"testamt\"\n",
    "prices = find_elements_values(By.XPATH, \"//div[@class='column-seven p-right-10 w-15 fl']\")\n",
    "seats_available = find_elements_values(By.XPATH, \"//div[@class='l-color']\")\n",
    "bus_types = find_elements_values(By.XPATH, \"//div[@class='bus-type f-12 m-top-16 l-color evBus']\")\n",
    "ratings = find_elements_values(By.XPATH, \"//div[@class='rating-sec lh-24']\")\n"
   ]
  },
  {
   "cell_type": "code",
   "execution_count": 49,
   "id": "ceb9bf88-f022-4eb2-a8a8-b663ad181e8d",
   "metadata": {},
   "outputs": [],
   "source": [
    "min_length = min(len(arriving_times), len(departure_times), len(time_durations), len(bus_routes), len(prices), len(seats_available), len(bus_types), len(ratings))"
   ]
  },
  {
   "cell_type": "code",
   "execution_count": 50,
   "id": "c211e5e2-c055-4d3f-8304-34af36b76094",
   "metadata": {},
   "outputs": [
    {
     "name": "stdout",
     "output_type": "stream",
     "text": [
      "{'bus_name': 'MMK Travels', 'arriving_time': 'MMK Travels', 'departure_time': 'MMK Travels', 'time_duration': 'MMK Travels', 'bus_route': 'MMK Travels', 'price': 'MMK Travels', 'seat_available': 'MMK Travels', 'bus_type': 'MMK Travels', 'rating': 'MMK Travels'}\n",
      "{'bus_name': 'Kyros Connect', 'arriving_time': 'Kyros Connect', 'departure_time': 'Kyros Connect', 'time_duration': 'Kyros Connect', 'bus_route': 'Kyros Connect', 'price': 'Kyros Connect', 'seat_available': 'Kyros Connect', 'bus_type': 'Kyros Connect', 'rating': 'Kyros Connect'}\n",
      "{'bus_name': 'NS Transports', 'arriving_time': 'NS Transports', 'departure_time': 'NS Transports', 'time_duration': 'NS Transports', 'bus_route': 'NS Transports', 'price': 'NS Transports', 'seat_available': 'NS Transports', 'bus_type': 'NS Transports', 'rating': 'NS Transports'}\n",
      "{'bus_name': 'AdSURAJ TRAVEL HOUSE', 'arriving_time': 'AdSURAJ TRAVEL HOUSE', 'departure_time': 'AdSURAJ TRAVEL HOUSE', 'time_duration': 'AdSURAJ TRAVEL HOUSE', 'bus_route': 'AdSURAJ TRAVEL HOUSE', 'price': 'AdSURAJ TRAVEL HOUSE', 'seat_available': 'AdSURAJ TRAVEL HOUSE', 'bus_type': 'AdSURAJ TRAVEL HOUSE', 'rating': 'AdSURAJ TRAVEL HOUSE'}\n",
      "{'bus_name': 'Silver Line Travels', 'arriving_time': 'Silver Line Travels', 'departure_time': 'Silver Line Travels', 'time_duration': 'Silver Line Travels', 'bus_route': 'Silver Line Travels', 'price': 'Silver Line Travels', 'seat_available': 'Silver Line Travels', 'bus_type': 'Silver Line Travels', 'rating': 'Silver Line Travels'}\n",
      "{'bus_name': 'NS Transports', 'arriving_time': 'NS Transports', 'departure_time': 'NS Transports', 'time_duration': 'NS Transports', 'bus_route': 'NS Transports', 'price': 'NS Transports', 'seat_available': 'NS Transports', 'bus_type': 'NS Transports', 'rating': 'NS Transports'}\n",
      "{'bus_name': 'DLT BUS', 'arriving_time': 'DLT BUS', 'departure_time': 'DLT BUS', 'time_duration': 'DLT BUS', 'bus_route': 'DLT BUS', 'price': 'DLT BUS', 'seat_available': 'DLT BUS', 'bus_type': 'DLT BUS', 'rating': 'DLT BUS'}\n",
      "{'bus_name': 'AdSAAM BUS', 'arriving_time': 'AdSAAM BUS', 'departure_time': 'AdSAAM BUS', 'time_duration': 'AdSAAM BUS', 'bus_route': 'AdSAAM BUS', 'price': 'AdSAAM BUS', 'seat_available': 'AdSAAM BUS', 'bus_type': 'AdSAAM BUS', 'rating': 'AdSAAM BUS'}\n",
      "{'bus_name': 'P K Travels', 'arriving_time': 'P K Travels', 'departure_time': 'P K Travels', 'time_duration': 'P K Travels', 'bus_route': 'P K Travels', 'price': 'P K Travels', 'seat_available': 'P K Travels', 'bus_type': 'P K Travels', 'rating': 'P K Travels'}\n",
      "{'bus_name': 'Suraj Holidays', 'arriving_time': 'Suraj Holidays', 'departure_time': 'Suraj Holidays', 'time_duration': 'Suraj Holidays', 'bus_route': 'Suraj Holidays', 'price': 'Suraj Holidays', 'seat_available': 'Suraj Holidays', 'bus_type': 'Suraj Holidays', 'rating': 'Suraj Holidays'}\n",
      "{'bus_name': 'NS Transports', 'arriving_time': 'NS Transports', 'departure_time': 'NS Transports', 'time_duration': 'NS Transports', 'bus_route': 'NS Transports', 'price': 'NS Transports', 'seat_available': 'NS Transports', 'bus_type': 'NS Transports', 'rating': 'NS Transports'}\n",
      "{'bus_name': 'National travels and logistics', 'arriving_time': 'National travels and logistics', 'departure_time': 'National travels and logistics', 'time_duration': 'National travels and logistics', 'bus_route': 'National travels and logistics', 'price': 'National travels and logistics', 'seat_available': 'National travels and logistics', 'bus_type': 'National travels and logistics', 'rating': 'National travels and logistics'}\n",
      "{'bus_name': 'Kallada Travels (Suresh Kallada)', 'arriving_time': 'Kallada Travels (Suresh Kallada)', 'departure_time': 'Kallada Travels (Suresh Kallada)', 'time_duration': 'Kallada Travels (Suresh Kallada)', 'bus_route': 'Kallada Travels (Suresh Kallada)', 'price': 'Kallada Travels (Suresh Kallada)', 'seat_available': 'Kallada Travels (Suresh Kallada)', 'bus_type': 'Kallada Travels (Suresh Kallada)', 'rating': 'Kallada Travels (Suresh Kallada)'}\n",
      "{'bus_name': 'SKS Tourist Corporation (REGD)', 'arriving_time': 'SKS Tourist Corporation (REGD)', 'departure_time': 'SKS Tourist Corporation (REGD)', 'time_duration': 'SKS Tourist Corporation (REGD)', 'bus_route': 'SKS Tourist Corporation (REGD)', 'price': 'SKS Tourist Corporation (REGD)', 'seat_available': 'SKS Tourist Corporation (REGD)', 'bus_type': 'SKS Tourist Corporation (REGD)', 'rating': 'SKS Tourist Corporation (REGD)'}\n",
      "{'bus_name': 'DA Transports', 'arriving_time': 'DA Transports', 'departure_time': 'DA Transports', 'time_duration': 'DA Transports', 'bus_route': 'DA Transports', 'price': 'DA Transports', 'seat_available': 'DA Transports', 'bus_type': 'DA Transports', 'rating': 'DA Transports'}\n",
      "{'bus_name': 'P K Travels', 'arriving_time': 'P K Travels', 'departure_time': 'P K Travels', 'time_duration': 'P K Travels', 'bus_route': 'P K Travels', 'price': 'P K Travels', 'seat_available': 'P K Travels', 'bus_type': 'P K Travels', 'rating': 'P K Travels'}\n",
      "{'bus_name': 'Suraj Holidays', 'arriving_time': 'Suraj Holidays', 'departure_time': 'Suraj Holidays', 'time_duration': 'Suraj Holidays', 'bus_route': 'Suraj Holidays', 'price': 'Suraj Holidays', 'seat_available': 'Suraj Holidays', 'bus_type': 'Suraj Holidays', 'rating': 'Suraj Holidays'}\n",
      "{'bus_name': 'A1 Travels', 'arriving_time': 'A1 Travels', 'departure_time': 'A1 Travels', 'time_duration': 'A1 Travels', 'bus_route': 'A1 Travels', 'price': 'A1 Travels', 'seat_available': 'A1 Travels', 'bus_type': 'A1 Travels', 'rating': 'A1 Travels'}\n",
      "{'bus_name': 'SKS Tours & Travels', 'arriving_time': 'SKS Tours & Travels', 'departure_time': 'SKS Tours & Travels', 'time_duration': 'SKS Tours & Travels', 'bus_route': 'SKS Tours & Travels', 'price': 'SKS Tours & Travels', 'seat_available': 'SKS Tours & Travels', 'bus_type': 'SKS Tours & Travels', 'rating': 'SKS Tours & Travels'}\n",
      "{'bus_name': 'Kalpaka Travels', 'arriving_time': 'Kalpaka Travels', 'departure_time': 'Kalpaka Travels', 'time_duration': 'Kalpaka Travels', 'bus_route': 'Kalpaka Travels', 'price': 'Kalpaka Travels', 'seat_available': 'Kalpaka Travels', 'bus_type': 'Kalpaka Travels', 'rating': 'Kalpaka Travels'}\n",
      "{'bus_name': 'SRS Travels', 'arriving_time': 'SRS Travels', 'departure_time': 'SRS Travels', 'time_duration': 'SRS Travels', 'bus_route': 'SRS Travels', 'price': 'SRS Travels', 'seat_available': 'SRS Travels', 'bus_type': 'SRS Travels', 'rating': 'SRS Travels'}\n",
      "{'bus_name': 'Sam Tourist', 'arriving_time': 'Sam Tourist', 'departure_time': 'Sam Tourist', 'time_duration': 'Sam Tourist', 'bus_route': 'Sam Tourist', 'price': 'Sam Tourist', 'seat_available': 'Sam Tourist', 'bus_type': 'Sam Tourist', 'rating': 'Sam Tourist'}\n",
      "{'bus_name': 'Orange Tours And Travels', 'arriving_time': 'Orange Tours And Travels', 'departure_time': 'Orange Tours And Travels', 'time_duration': 'Orange Tours And Travels', 'bus_route': 'Orange Tours And Travels', 'price': 'Orange Tours And Travels', 'seat_available': 'Orange Tours And Travels', 'bus_type': 'Orange Tours And Travels', 'rating': 'Orange Tours And Travels'}\n",
      "{'bus_name': 'A1 Travels', 'arriving_time': 'A1 Travels', 'departure_time': 'A1 Travels', 'time_duration': 'A1 Travels', 'bus_route': 'A1 Travels', 'price': 'A1 Travels', 'seat_available': 'A1 Travels', 'bus_type': 'A1 Travels', 'rating': 'A1 Travels'}\n",
      "{'bus_name': 'Bharathi Travels', 'arriving_time': 'Bharathi Travels', 'departure_time': 'Bharathi Travels', 'time_duration': 'Bharathi Travels', 'bus_route': 'Bharathi Travels', 'price': 'Bharathi Travels', 'seat_available': 'Bharathi Travels', 'bus_type': 'Bharathi Travels', 'rating': 'Bharathi Travels'}\n",
      "{'bus_name': 'NS Transports', 'arriving_time': 'NS Transports', 'departure_time': 'NS Transports', 'time_duration': 'NS Transports', 'bus_route': 'NS Transports', 'price': 'NS Transports', 'seat_available': 'NS Transports', 'bus_type': 'NS Transports', 'rating': 'NS Transports'}\n",
      "{'bus_name': 'Kallada Travels (Suresh Kallada)', 'arriving_time': 'Kallada Travels (Suresh Kallada)', 'departure_time': 'Kallada Travels (Suresh Kallada)', 'time_duration': 'Kallada Travels (Suresh Kallada)', 'bus_route': 'Kallada Travels (Suresh Kallada)', 'price': 'Kallada Travels (Suresh Kallada)', 'seat_available': 'Kallada Travels (Suresh Kallada)', 'bus_type': 'Kallada Travels (Suresh Kallada)', 'rating': 'Kallada Travels (Suresh Kallada)'}\n",
      "{'bus_name': 'Kallada Travels (Suresh Kallada)', 'arriving_time': 'Kallada Travels (Suresh Kallada)', 'departure_time': 'Kallada Travels (Suresh Kallada)', 'time_duration': 'Kallada Travels (Suresh Kallada)', 'bus_route': 'Kallada Travels (Suresh Kallada)', 'price': 'Kallada Travels (Suresh Kallada)', 'seat_available': 'Kallada Travels (Suresh Kallada)', 'bus_type': 'Kallada Travels (Suresh Kallada)', 'rating': 'Kallada Travels (Suresh Kallada)'}\n",
      "{'bus_name': 'P K Travels', 'arriving_time': 'P K Travels', 'departure_time': 'P K Travels', 'time_duration': 'P K Travels', 'bus_route': 'P K Travels', 'price': 'P K Travels', 'seat_available': 'P K Travels', 'bus_type': 'P K Travels', 'rating': 'P K Travels'}\n",
      "{'bus_name': 'RAVINA TRAVELS', 'arriving_time': 'RAVINA TRAVELS', 'departure_time': 'RAVINA TRAVELS', 'time_duration': 'RAVINA TRAVELS', 'bus_route': 'RAVINA TRAVELS', 'price': 'RAVINA TRAVELS', 'seat_available': 'RAVINA TRAVELS', 'bus_type': 'RAVINA TRAVELS', 'rating': 'RAVINA TRAVELS'}\n",
      "{'bus_name': 'A1 Travels', 'arriving_time': 'A1 Travels', 'departure_time': 'A1 Travels', 'time_duration': 'A1 Travels', 'bus_route': 'A1 Travels', 'price': 'A1 Travels', 'seat_available': 'A1 Travels', 'bus_type': 'A1 Travels', 'rating': 'A1 Travels'}\n",
      "{'bus_name': 'Vijay Lines', 'arriving_time': 'Vijay Lines', 'departure_time': 'Vijay Lines', 'time_duration': 'Vijay Lines', 'bus_route': 'Vijay Lines', 'price': 'Vijay Lines', 'seat_available': 'Vijay Lines', 'bus_type': 'Vijay Lines', 'rating': 'Vijay Lines'}\n",
      "{'bus_name': 'Bharathi Travels', 'arriving_time': 'Bharathi Travels', 'departure_time': 'Bharathi Travels', 'time_duration': 'Bharathi Travels', 'bus_route': 'Bharathi Travels', 'price': 'Bharathi Travels', 'seat_available': 'Bharathi Travels', 'bus_type': 'Bharathi Travels', 'rating': 'Bharathi Travels'}\n",
      "{'bus_name': 'DA Transports', 'arriving_time': 'DA Transports', 'departure_time': 'DA Transports', 'time_duration': 'DA Transports', 'bus_route': 'DA Transports', 'price': 'DA Transports', 'seat_available': 'DA Transports', 'bus_type': 'DA Transports', 'rating': 'DA Transports'}\n",
      "{'bus_name': 'Usha Transport', 'arriving_time': 'Usha Transport', 'departure_time': 'Usha Transport', 'time_duration': 'Usha Transport', 'bus_route': 'Usha Transport', 'price': 'Usha Transport', 'seat_available': 'Usha Transport', 'bus_type': 'Usha Transport', 'rating': 'Usha Transport'}\n"
     ]
    }
   ],
   "source": [
    "buses = []\n",
    "for i in range(min_length):\n",
    "    bus = {\n",
    "        'bus_name': bus_names[i],\n",
    "        'arriving_time': arriving_times[i],\n",
    "        'departure_time': departure_times[i],\n",
    "        'time_duration': time_durations[i],\n",
    "        'bus_route': bus_routes[i],\n",
    "        'price': prices[i],\n",
    "        'seat_available': seats_available[i],\n",
    "        'bus_type': bus_types[i],\n",
    "        'rating': ratings[i],\n",
    "    }\n",
    "    buses.append(bus)\n",
    "for bus in buses:\n",
    "    print(bus)\n"
   ]
  },
  {
   "cell_type": "code",
   "execution_count": null,
   "id": "c4e51889-2a73-4d2f-9dd9-05a3821cdc4b",
   "metadata": {},
   "outputs": [],
   "source": []
  }
 ],
 "metadata": {
  "kernelspec": {
   "display_name": "Python 3 (ipykernel)",
   "language": "python",
   "name": "python3"
  },
  "language_info": {
   "codemirror_mode": {
    "name": "ipython",
    "version": 3
   },
   "file_extension": ".py",
   "mimetype": "text/x-python",
   "name": "python",
   "nbconvert_exporter": "python",
   "pygments_lexer": "ipython3",
   "version": "3.11.7"
  }
 },
 "nbformat": 4,
 "nbformat_minor": 5
}
